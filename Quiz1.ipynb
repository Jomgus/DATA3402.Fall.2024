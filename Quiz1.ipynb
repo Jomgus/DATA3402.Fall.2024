{
 "cells": [
  {
   "cell_type": "code",
   "execution_count": 29,
   "id": "4e97ffc6",
   "metadata": {},
   "outputs": [],
   "source": [
    "def create_new_args_0(args):\n",
    "    max_len = max(map(len,\n",
    "                      filter(lambda x: isinstance(x,list),\n",
    "                        args)))\n",
    "\n",
    "    # Rewrite this section:\n",
    "    new_args=list()\n",
    "\n",
    "    for a in args:\n",
    "        if not isinstance(a,list):\n",
    "            a0=[a]*max_len\n",
    "        elif len(a)!=max_len:\n",
    "            print(\"Error: all list arguments must have same length.\")\n",
    "            return\n",
    "        else:\n",
    "            a0=a\n",
    "        new_args.append(a0)\n",
    "\n",
    "    return new_args"
   ]
  },
  {
   "cell_type": "code",
   "execution_count": 4,
   "id": "a64a852e",
   "metadata": {},
   "outputs": [
    {
     "data": {
      "text/plain": [
       "[[2, 4, 5], [1, 2, 1], [6, 6, 6]]"
      ]
     },
     "execution_count": 4,
     "metadata": {},
     "output_type": "execute_result"
    }
   ],
   "source": [
    "create_new_args_0([[2,4,5],[1,2,1], 6])"
   ]
  },
  {
   "cell_type": "code",
   "execution_count": 30,
   "id": "5c65f73e",
   "metadata": {},
   "outputs": [],
   "source": [
    "    def create_new_args_0(args):\n",
    "        max_len = max(map(len, filter(lambda x: isinstance(x, list), args)))\n",
    "\n",
    "        return [[a] * max_len if not isinstance(a, list) else a if len(a) == max_len else (print(\"Error: all list arguments must have same length.\") or None) for a in args]"
   ]
  },
  {
   "cell_type": "code",
   "execution_count": 31,
   "id": "311ae4d3",
   "metadata": {},
   "outputs": [
    {
     "data": {
      "text/plain": [
       "[[1, 1], [2, 2], [5, 5]]"
      ]
     },
     "execution_count": 31,
     "metadata": {},
     "output_type": "execute_result"
    }
   ],
   "source": [
    "create_new_args_0([[1,1],[2,2],5])"
   ]
  }
 ],
 "metadata": {
  "kernelspec": {
   "display_name": "Python 3 (ipykernel)",
   "language": "python",
   "name": "python3"
  },
  "language_info": {
   "codemirror_mode": {
    "name": "ipython",
    "version": 3
   },
   "file_extension": ".py",
   "mimetype": "text/x-python",
   "name": "python",
   "nbconvert_exporter": "python",
   "pygments_lexer": "ipython3",
   "version": "3.12.3"
  }
 },
 "nbformat": 4,
 "nbformat_minor": 5
}
