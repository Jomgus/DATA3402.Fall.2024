{
 "cells": [
  {
   "cell_type": "markdown",
   "metadata": {},
   "source": [
    "# Lab 4- Object Oriented Programming\n",
    "\n",
    "For all of the exercises below, make sure you provide tests of your solutions.\n"
   ]
  },
  {
   "cell_type": "markdown",
   "metadata": {},
   "source": [
    "1. Write a \"counter\" class that can be incremented up to a specified maximum value, will print an error if an attempt is made to increment beyond that value, and allows reseting the counter. "
   ]
  },
  {
   "cell_type": "code",
   "execution_count": 3,
   "metadata": {},
   "outputs": [],
   "source": [
    "class Counter:\n",
    "\n",
    "    def __init__(self, max):\n",
    "        self.max = max\n",
    "        self.value = 0\n",
    "\n",
    "    def increment(self):\n",
    "        if self.value < self.max:\n",
    "            self.value += 1\n",
    "        else:\n",
    "            print(f'ERROR, MAX REACHED {max}')\n"
   ]
  },
  {
   "cell_type": "code",
   "execution_count": 12,
   "metadata": {},
   "outputs": [
    {
     "name": "stdout",
     "output_type": "stream",
     "text": [
      "ERROR, MAX REACHED <built-in function max>\n",
      "ERROR, MAX REACHED <built-in function max>\n",
      "ERROR, MAX REACHED <built-in function max>\n",
      "5\n"
     ]
    }
   ],
   "source": [
    "counter = Counter(5)\n",
    "\n",
    "\n",
    "for i in range(8):\n",
    "    counter.increment()\n",
    "\n",
    "print(counter.value)"
   ]
  },
  {
   "cell_type": "markdown",
   "metadata": {},
   "source": [
    "2. Copy and paste your solution to question 1 and modify it so that all the data held by the counter is private. Implement functions to check the value of the counter, check the maximum value, and check if the counter is at the maximum."
   ]
  },
  {
   "cell_type": "code",
   "execution_count": 21,
   "metadata": {},
   "outputs": [],
   "source": [
    "class Counter:\n",
    "\n",
    "    def __init__(self, max):\n",
    "        self.__max = max\n",
    "        self.__value = 0\n",
    "\n",
    "    def increment(self):\n",
    "        if self.__value < self.__max:\n",
    "            self.__value += 1\n",
    "        else:\n",
    "            print(f'ERROR, MAX REACHED {max}')\n",
    "\n",
    "    def check_value(self):\n",
    "        return self.__value\n",
    "    \n",
    "    def check_max(self):\n",
    "        return self.__max\n",
    "    def is_max(self):\n",
    "        return self.__value == self.__max\n",
    "    \n"
   ]
  },
  {
   "cell_type": "code",
   "execution_count": 23,
   "metadata": {},
   "outputs": [
    {
     "name": "stdout",
     "output_type": "stream",
     "text": [
      "10\n",
      "False\n",
      "8\n"
     ]
    }
   ],
   "source": [
    "counter = Counter(10)\n",
    "\n",
    "for i in range(8):\n",
    "    counter.increment()\n",
    "\n",
    "print(counter.check_max())\n",
    "\n",
    "print(counter.is_max())\n",
    "\n",
    "print(counter.check_value())"
   ]
  },
  {
   "cell_type": "markdown",
   "metadata": {},
   "source": [
    "3. Implement a class to represent a rectangle, holding the length, width, and $x$ and $y$ coordinates of a corner of the object. Implement functions that compute the area and perimeter of the rectangle. Make all data members private and privide accessors to retrieve values of data members. "
   ]
  },
  {
   "cell_type": "code",
   "execution_count": 25,
   "metadata": {},
   "outputs": [],
   "source": [
    "class Rectangle:\n",
    "\n",
    "    def __init__(self, length, width, x , y):\n",
    "        self.__length = length\n",
    "        self.__width = width\n",
    "        self.__x = x\n",
    "        self.__y = y\n",
    "    def area(self):\n",
    "        return self.__length * self.__width\n",
    "    \n",
    "    def perimeter(self):\n",
    "        return 2*(self.__length + self.__width)\n",
    "    \n",
    "    def check_len(self):\n",
    "        return self.__length\n",
    "    \n",
    "    def check_wide(self):\n",
    "        return self.__width\n",
    "    \n",
    "    def coordinates(self):\n",
    "        return self.__x, self.__y\n"
   ]
  },
  {
   "cell_type": "code",
   "execution_count": 26,
   "metadata": {},
   "outputs": [
    {
     "name": "stdout",
     "output_type": "stream",
     "text": [
      "9\n",
      "12\n"
     ]
    }
   ],
   "source": [
    "rec = Rectangle(3,3,0,0)\n",
    "\n",
    "print(rec.area())\n",
    "print(rec.perimeter())"
   ]
  },
  {
   "cell_type": "markdown",
   "metadata": {},
   "source": [
    "4. Implement a class to represent a circle, holding the radius and $x$ and $y$ coordinates of center of the object. Implement functions that compute the area and perimeter of the rectangle. Make all data members private and privide accessors to retrieve values of data members. "
   ]
  },
  {
   "cell_type": "code",
   "execution_count": 30,
   "metadata": {},
   "outputs": [],
   "source": [
    "class Circle:\n",
    "    def __init__(self, radius, x , y):\n",
    "        self.__radius = radius\n",
    "        self.__x = x\n",
    "\n",
    "        self.__y = y\n",
    "\n",
    "    def area(self):\n",
    "        return 3.14 * self.__radius **2 \n",
    "    \n",
    "    def perimeter(self):\n",
    "        return 2 * 3.14 * self.__radius\n",
    "    \n",
    "    def radius(self):\n",
    "        return self.__radius\n",
    "    def coordinates(self):\n",
    "        return self.__x, self.__y\n",
    "    "
   ]
  },
  {
   "cell_type": "code",
   "execution_count": 31,
   "metadata": {},
   "outputs": [
    {
     "name": "stdout",
     "output_type": "stream",
     "text": [
      "28.26\n",
      "18.84\n"
     ]
    }
   ],
   "source": [
    "circle = Circle(3,0,0)\n",
    "\n",
    "print(circle.area())\n",
    "print(circle.perimeter())"
   ]
  },
  {
   "cell_type": "markdown",
   "metadata": {},
   "source": [
    "5. Implement a common base class for the classes implemented in 3 and 4 above which implements all common methods as not implemented functions (virtual). Re-implement your regtangle and circule classes to inherit from the base class and overload the functions accordingly. "
   ]
  },
  {
   "cell_type": "code",
   "execution_count": 34,
   "metadata": {},
   "outputs": [],
   "source": [
    "class Base:\n",
    "    def area(self):\n",
    "\n",
    "        raise NotImplementedError\n",
    "    def perimeter(self):\n",
    "\n",
    "        return NotImplementedError"
   ]
  },
  {
   "cell_type": "code",
   "execution_count": 35,
   "metadata": {},
   "outputs": [],
   "source": [
    "class Rectangle(Base):\n",
    "\n",
    "    def __init__(self, length, width, x , y):\n",
    "        self.__length = length\n",
    "        self.__width = width\n",
    "        self.__x = x\n",
    "        self.__y = y\n",
    "    def area(self):\n",
    "        return self.__length * self.__width\n",
    "    \n",
    "    def perimeter(self):\n",
    "        return 2*(self.__length + self.__width)\n",
    "    \n",
    "    def check_len(self):\n",
    "        return self.__length\n",
    "    \n",
    "    def check_wide(self):\n",
    "        return self.__width\n",
    "    \n",
    "    def coordinates(self):\n",
    "        return self.__x, self.__y\n",
    "    \n",
    "class Circle(Base):\n",
    "    def __init__(self, radius, x , y):\n",
    "        self.__radius = radius\n",
    "        self.__x = x\n",
    "\n",
    "        self.__y = y\n",
    "\n",
    "    def area(self):\n",
    "        return 3.14 * self.__radius **2 \n",
    "    \n",
    "    def perimeter(self):\n",
    "        return 2 * 3.14 * self.__radius\n",
    "    \n",
    "    def radius(self):\n",
    "        return self.__radius\n",
    "    def coordinates(self):\n",
    "        return self.__x, self.__y\n",
    "    \n",
    "\n",
    "    \n"
   ]
  },
  {
   "cell_type": "markdown",
   "metadata": {},
   "source": [
    "6. Implement a triangle class analogous to the rectangle and circle in question 5."
   ]
  },
  {
   "cell_type": "code",
   "execution_count": 37,
   "metadata": {},
   "outputs": [],
   "source": [
    "class Triangle(Base):\n",
    "    def __init__(self, base, height):\n",
    "        self.__base = base\n",
    "\n",
    "        self.__height = height\n",
    "\n",
    "    def area(self):\n",
    "        return .5 * self.__base * self.__height\n",
    "    \n",
    "    def perimeter(self):\n",
    "\n",
    "        return 3 * self.__base\n",
    "    \n"
   ]
  },
  {
   "cell_type": "code",
   "execution_count": 40,
   "metadata": {},
   "outputs": [
    {
     "name": "stdout",
     "output_type": "stream",
     "text": [
      "10.0\n",
      "15\n"
     ]
    }
   ],
   "source": [
    "traingle = Triangle(5, 4)\n",
    "\n",
    "print(traingle.area())\n",
    "\n",
    "print(traingle.perimeter())"
   ]
  },
  {
   "cell_type": "markdown",
   "metadata": {},
   "source": [
    "7. Add a function to the object classes, including the base, that returns a list of up to 16 pairs of  $x$ and $y$ points on the parameter of the object. "
   ]
  },
  {
   "cell_type": "code",
   "execution_count": 42,
   "metadata": {},
   "outputs": [],
   "source": [
    "\n",
    "\n",
    "\n",
    "class Triangle(Base):\n",
    "    def __init__(self, base, height):\n",
    "        self.__base = base\n",
    "\n",
    "        self.__height = height\n",
    "\n",
    "    def area(self):\n",
    "        return .5 * self.__base * self.__height\n",
    "    \n",
    "    def perimeter(self):\n",
    "\n",
    "        return 3 * self.__base\n",
    "    \n",
    "    def points(self):\n",
    "        return [\n",
    "            (self.__x, self.__y),\n",
    "            (self.__x + self.__length, self.__y),\n",
    "            (self.__x + self.__length, self.__y + self.__width),\n",
    "            (self.__x, self.__y + self.__width),\n",
    "        ]\n",
    "    \n",
    "class Rectangle(Base):\n",
    "\n",
    "    def __init__(self, length, width, x , y):\n",
    "        self.__length = length\n",
    "        self.__width = width\n",
    "        self.__x = x\n",
    "        self.__y = y\n",
    "    def area(self):\n",
    "        return self.__length * self.__width\n",
    "    \n",
    "    def perimeter(self):\n",
    "        return 2*(self.__length + self.__width)\n",
    "    \n",
    "    def check_len(self):\n",
    "        return self.__length\n",
    "    \n",
    "    def check_wide(self):\n",
    "        return self.__width\n",
    "    \n",
    "    def coordinates(self):\n",
    "        return self.__x, self.__y\n",
    "    def points(self):\n",
    "        return [\n",
    "            (self.__x, self.__y),\n",
    "            (self.__x + self.__length, self.__y),\n",
    "            (self.__x + self.__length, self.__y + self.__width),\n",
    "            (self.__x, self.__y + self.__width),\n",
    "        ]\n",
    "    \n",
    "\n",
    "    \n",
    "class Circle(Base):\n",
    "    def __init__(self, radius, x , y):\n",
    "        self.__radius = radius\n",
    "        self.__x = x\n",
    "\n",
    "        self.__y = y\n",
    "\n",
    "    def area(self):\n",
    "        return 3.14 * self.__radius **2 \n",
    "    \n",
    "    def perimeter(self):\n",
    "        return 2 * 3.14 * self.__radius\n",
    "    \n",
    "    def radius(self):\n",
    "        return self.__radius\n",
    "    def coordinates(self):\n",
    "        return self.__x, self.__y\n",
    "    def points(self):\n",
    "        return [\n",
    "            (self.__x, self.__y),\n",
    "            (self.__x + self.__length, self.__y),\n",
    "            (self.__x + self.__length, self.__y + self.__width),\n",
    "            (self.__x, self.__y + self.__width),\n",
    "        ]\n",
    "    \n",
    "class Base:\n",
    "    def area(self):\n",
    "\n",
    "        raise NotImplementedError\n",
    "    def perimeter(self):\n",
    "\n",
    "        return NotImplementedError\n",
    "    \n",
    "    def points(self):\n",
    "        \n",
    "        raise NotImplementedError\n",
    "    \n",
    "    \n"
   ]
  },
  {
   "cell_type": "markdown",
   "metadata": {},
   "source": [
    "8. Add a function to the object classes, including the base, that tests if a given set of $x$ and $y$ coordinates are inside of the object. You'll have to think through how to determine if a set of coordinates are inside an object for each object type."
   ]
  },
  {
   "cell_type": "code",
   "execution_count": 43,
   "metadata": {},
   "outputs": [],
   "source": [
    "\n",
    "    \n",
    "class Rectangle(Base):\n",
    "\n",
    "    def __init__(self, length, width, x , y):\n",
    "        self.__length = length\n",
    "        self.__width = width\n",
    "        self.__x = x\n",
    "        self.__y = y\n",
    "    def area(self):\n",
    "        return self.__length * self.__width\n",
    "    \n",
    "    def perimeter(self):\n",
    "        return 2*(self.__length + self.__width)\n",
    "    \n",
    "    def check_len(self):\n",
    "        return self.__length\n",
    "    \n",
    "    def check_wide(self):\n",
    "        return self.__width\n",
    "    \n",
    "    def coordinates(self):\n",
    "        return self.__x, self.__y\n",
    "    def points(self):\n",
    "        return [\n",
    "            (self.__x, self.__y),\n",
    "            (self.__x + self.__length, self.__y),\n",
    "            (self.__x + self.__length, self.__y + self.__width),\n",
    "            (self.__x, self.__y + self.__width),\n",
    "        ]\n",
    "    def is_inside(self, x, y):\n",
    "        return (self.__x <= x <= self.__x + self.__length) and (self.__y <= y <= self.__y + self.__width)\n",
    "    \n",
    "\n",
    "    \n",
    "class Circle(Base):\n",
    "    def __init__(self, radius, x , y):\n",
    "        self.__radius = radius\n",
    "        self.__x = x\n",
    "\n",
    "        self.__y = y\n",
    "\n",
    "    def area(self):\n",
    "        return 3.14 * self.__radius **2 \n",
    "    \n",
    "    def perimeter(self):\n",
    "        return 2 * 3.14 * self.__radius\n",
    "    \n",
    "    def radius(self):\n",
    "        return self.__radius\n",
    "    def coordinates(self):\n",
    "        return self.__x, self.__y\n",
    "    def points(self):\n",
    "        return [\n",
    "            (self.__x, self.__y),\n",
    "            (self.__x + self.__length, self.__y),\n",
    "            (self.__x + self.__length, self.__y + self.__width),\n",
    "            (self.__x, self.__y + self.__width),\n",
    "        ]\n",
    "    def inside(self,x,y):\n",
    "        return ((x - self.__x) ** 2 + (y - self.__y) ** 2) <= self.__radius ** 2\n",
    "    \n",
    "    \n",
    "class Base:\n",
    "    def area(self):\n",
    "\n",
    "        raise NotImplementedError\n",
    "    def perimeter(self):\n",
    "\n",
    "        return NotImplementedError\n",
    "    \n",
    "    def points(self):\n",
    "        \n",
    "        raise NotImplementedError\n",
    "    \n",
    "    def inside(self,x,y):\n",
    "        def is_inside(self, x,y):\n",
    "            raise NotImplementedError\n",
    "        "
   ]
  },
  {
   "cell_type": "markdown",
   "metadata": {},
   "source": [
    "9. Add a function in the base class of the object classes that returns true/false testing that the object overlaps with another object."
   ]
  },
  {
   "cell_type": "code",
   "execution_count": 44,
   "metadata": {},
   "outputs": [],
   "source": [
    "    \n",
    "class Base:\n",
    "    def area(self):\n",
    "\n",
    "        raise NotImplementedError\n",
    "    def perimeter(self):\n",
    "\n",
    "        return NotImplementedError\n",
    "    \n",
    "    def points(self):\n",
    "        \n",
    "        raise NotImplementedError\n",
    "    \n",
    "    def inside(self,x,y):\n",
    "        def is_inside(self, x,y):\n",
    "            raise NotImplementedError\n",
    "    \n",
    "    def overlaps(self, other):\n",
    "\n",
    "        for point in self.points():\n",
    "            if other.is_inside(*point):\n",
    "                return True\n",
    "        \n",
    "        for point in other.points():\n",
    "            if self.is_inside(*point):\n",
    "                return True\n",
    "        return False\n",
    "    "
   ]
  },
  {
   "cell_type": "markdown",
   "metadata": {},
   "source": [
    "10. Copy the `Canvas` class from lecture to in a python file creating a `paint` module. Copy your classes from above into the module and implement paint functions. Implement a `CompoundShape` class. Create a simple drawing demonstrating that all of your classes are working."
   ]
  },
  {
   "cell_type": "code",
   "execution_count": 45,
   "metadata": {},
   "outputs": [],
   "source": [
    "class Canvas:\n",
    "    def __init__(self, width, height):\n",
    "        self.width = width\n",
    "        self.height = height\n",
    "        # Empty canvas is a matrix with element being the \"space\" character\n",
    "        self.data = [[' '] * width for i in range(height)]\n",
    "\n",
    "    def set_pixel(self, row, col, char='*'):\n",
    "        self.data[row][col] = char\n",
    "\n",
    "    def get_pixel(self, row, col):\n",
    "        return self.data[row][col]\n",
    "    \n",
    "    def clear_canvas(self):\n",
    "        self.data = [[' '] * self.width for i in range(self.height)]\n",
    "    \n",
    "    def v_line(self, x, y, w, **kargs):\n",
    "        for i in range(x,x+w):\n",
    "            self.set_pixel(i,y, **kargs)\n",
    "\n",
    "    def h_line(self, x, y, h, **kargs):\n",
    "        for i in range(y,y+h):\n",
    "            self.set_pixel(x,i, **kargs)\n",
    "            \n",
    "    def line(self, x1, y1, x2, y2, **kargs):\n",
    "        slope = (y2-y1) / (x2-x1)\n",
    "        for y in range(y1,y2):\n",
    "            x= int(slope * y)\n",
    "            self.set_pixel(x,y, **kargs)\n",
    "            \n",
    "    def display(self):\n",
    "        print(\"\\n\".join([\"\".join(row) for row in self.data]))\n",
    "\n",
    "        def draw_shape(self, shape, char='*'):\n",
    "            for x, y in shape.points():\n",
    "                self.set_pixel(int(y), int(x), char)\n",
    "\n"
   ]
  },
  {
   "cell_type": "markdown",
   "metadata": {},
   "source": [
    "11. Create a `RasterDrawing` class. Demonstrate that you can create a drawing made of several shapes, paint the drawing, modify the drawing, and paint it again. "
   ]
  },
  {
   "cell_type": "code",
   "execution_count": null,
   "metadata": {},
   "outputs": [],
   "source": [
    "class CompoundShape(Base):\n",
    "    def __init__(self, shapes=None):\n",
    "        if shapes is None:\n",
    "            shapes = []\n",
    "        self.shapes = shapes\n",
    "\n",
    "    def add_shape(self, shape):\n",
    "        self.shapes.append(shape)\n",
    "\n",
    "    def area(self):\n",
    "        return sum(shape.area() for shape in self.shapes)\n",
    "\n",
    "    def perimeter(self):\n",
    "        return sum(shape.perimeter() for shape in self.shapes)\n",
    "\n",
    "    def points(self):\n",
    "        points = []\n",
    "        for shape in self.shapes:\n",
    "            points.extend(shape.points())\n",
    "        return points\n",
    "\n",
    "    def is_inside(self, x, y):\n",
    "        return any(shape.is_inside(x, y) for shape in self.shapes)\n",
    "\n",
    "    def overlaps(self, other):\n",
    "        return any(shape.overlaps(other) for shape in self.shapes)"
   ]
  },
  {
   "cell_type": "markdown",
   "metadata": {},
   "source": [
    "12. Implement the ability to load/save raster drawings and demonstate that your method works. One way to implement this ability:\n",
    "\n",
    "   * Overload `__repr__` functions of all objects to return strings of the python code that would construct the object.\n",
    "   \n",
    "   * In the save method of raster drawing class, store the representations into the file.\n",
    "   * Write a loader function that reads the file and uses `eval` to instantiate the object.\n",
    "\n",
    "For example:"
   ]
  },
  {
   "cell_type": "code",
   "execution_count": 1,
   "metadata": {},
   "outputs": [],
   "source": [
    "class foo:\n",
    "    def __init__(self,a,b=None):\n",
    "        self.a=a\n",
    "        self.b=b\n",
    "        \n",
    "    def __repr__(self):\n",
    "        return \"foo(\"+repr(self.a)+\",\"+repr(self.b)+\")\"\n",
    "    \n",
    "    def save(self,filename):\n",
    "        f=open(filename,\"w\")\n",
    "        f.write(self.__repr__())\n",
    "        f.close()\n",
    "        \n",
    "   \n",
    "def foo_loader(filename):\n",
    "    f=open(filename,\"r\")\n",
    "    tmp=eval(f.read())\n",
    "    f.close()\n",
    "    return tmp\n"
   ]
  },
  {
   "cell_type": "code",
   "execution_count": 2,
   "metadata": {},
   "outputs": [
    {
     "name": "stdout",
     "output_type": "stream",
     "text": [
      "foo(1,'hello')\n"
     ]
    }
   ],
   "source": [
    "# Test\n",
    "print(repr(foo(1,\"hello\")))"
   ]
  },
  {
   "cell_type": "code",
   "execution_count": 3,
   "metadata": {},
   "outputs": [],
   "source": [
    "# Create an object and save it\n",
    "ff=foo(1,\"hello\")\n",
    "ff.save(\"Test.foo\")"
   ]
  },
  {
   "cell_type": "code",
   "execution_count": 4,
   "metadata": {},
   "outputs": [
    {
     "name": "stdout",
     "output_type": "stream",
     "text": [
      "foo(1,'hello')"
     ]
    }
   ],
   "source": [
    "# Check contents of the saved file\n",
    "!cat Test.foo"
   ]
  },
  {
   "cell_type": "code",
   "execution_count": 5,
   "metadata": {},
   "outputs": [
    {
     "data": {
      "text/plain": [
       "foo(1,'hello')"
      ]
     },
     "execution_count": 5,
     "metadata": {},
     "output_type": "execute_result"
    }
   ],
   "source": [
    "# Load the object\n",
    "ff_reloaded=foo_loader(\"Test.foo\")\n",
    "ff_reloaded"
   ]
  },
  {
   "cell_type": "code",
   "execution_count": null,
   "metadata": {},
   "outputs": [],
   "source": []
  },
  {
   "cell_type": "code",
   "execution_count": null,
   "metadata": {},
   "outputs": [],
   "source": []
  }
 ],
 "metadata": {
  "kernelspec": {
   "display_name": "Python 3 (ipykernel)",
   "language": "python",
   "name": "python3"
  },
  "language_info": {
   "codemirror_mode": {
    "name": "ipython",
    "version": 3
   },
   "file_extension": ".py",
   "mimetype": "text/x-python",
   "name": "python",
   "nbconvert_exporter": "python",
   "pygments_lexer": "ipython3",
   "version": "3.11.9"
  }
 },
 "nbformat": 4,
 "nbformat_minor": 2
}
