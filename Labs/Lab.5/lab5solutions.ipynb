{
 "cells": [
  {
   "cell_type": "code",
   "execution_count": 41,
   "metadata": {},
   "outputs": [
    {
     "name": "stdout",
     "output_type": "stream",
     "text": [
      "[[0, 0, 0], [0, 0, 0]]\n",
      "[[1, 2, 3], [4, 5, 6]]\n"
     ]
    }
   ],
   "source": [
    "class Matrix:\n",
    "    def __init__(self,n=None,m=None,data=None):\n",
    "        if data:\n",
    "\n",
    "            self.matrix = data \n",
    "\n",
    "            if len(set(len(row) for row in data)) > 1:\n",
    "                raise ValueError(\"rows must have the same number of columns\")\n",
    "            self.n = len(data)\n",
    "            self.m = len(data[0])\n",
    "\n",
    "        elif n and m:\n",
    "\n",
    "            self.matrix = [[0 for _ in range(m)] for _ in range(n)]\n",
    "\n",
    "            self.n = n\n",
    "\n",
    "            self.m = m\n",
    "\n",
    "        else:\n",
    "\n",
    "            raise ValueError(\"provide either dimensions or list of lists)\")\n",
    "        \n",
    "    def shape(self):\n",
    "        return (self.n, self.m)\n",
    "\n",
    "    def transpose(self):\n",
    "        transp = [[self.matrix[j][i] for j in range(self.n)] for i in range(self.m)]\n",
    "        return Matrix(data=transp)\n",
    "    \n",
    "    def row(self, n):\n",
    "\n",
    "        if n >= self.n or n <0 :\n",
    "            raise IndexError('row out of range')\n",
    "        return Matrix(data=[self.matrix[n]])\n",
    "    \n",
    "    def column(self, n):\n",
    "\n",
    "        if n>= self.m or n <0 :\n",
    "            raise IndexError('col out of range')\n",
    "        return Matrix(data=[[self.matrix[i][n]] for i in range(self.n)])\n",
    "    \n",
    "    def tolist(self):\n",
    "\n",
    "        return self.matrix\n",
    "    def block(self, n0, n1, m0, m1):\n",
    "\n",
    "        if n0 < 0 or n1 > self.n or m0 < 0 or m1 > self.m:\n",
    "\n",
    "            raise IndexError('out of range')\n",
    "        \n",
    "        blockmatrix = [row[m0:m1] for row in self.matrix[n0:n1]]\n",
    "        return Matrix(data=blockmatrix)\n",
    "    def constant(n,m,c):\n",
    "\n",
    "        return Matrix(n=n, m=m, data=[[float(c) for _ in range(m)] for _ in range(n)])\n",
    "    \n",
    "    def zeros(n,m):\n",
    "\n",
    "        return Matrix(n=n, m=m, data=[[0.0 for _ in range(m)] for _ in range(n)])\n",
    "\n",
    "    def ones(n,m):\n",
    "\n",
    "        return Matrix(n=n, m=m, data=[[1.0 for _ in range(m)] for _ in range(n)])\n",
    "\n",
    "    def eye(n):\n",
    "\n",
    "        return Matrix(n=n, m=n, data=[[1.0 if i == j else 0.0 for j in range(n)] for i in range(n)])\n",
    "    def scalarmul(self, c):\n",
    "        return Matrix(data=[[self.matrix[i][j] * c for j in range(self.m)] for i in range(self.n)])\n",
    "\n",
    "    def add(self, N):\n",
    "            if self.n != N.n or self.m != N.m:\n",
    "                raise ValueError(\"wrong dimensions\")\n",
    "            return Matrix(data=[[self.matrix[i][j] + N.matrix[i][j] for j in range(self.m)] for i in range(self.n)])\n",
    "    def sub(self, N):\n",
    "            if self.n != N.n or self.m != N.m:\n",
    "                raise ValueError(\"wrong dimensions\")\n",
    "            return Matrix(data=[[self.matrix[i][j] - N.matrix[i][j] for j in range(self.m)] for i in range(self.n)])\n",
    "\n",
    "\n",
    "    def mat_mult(self, N):\n",
    "        if self.m != N.n:\n",
    "            raise ValueError(\"wrong dimension\")\n",
    "        result = [[sum(self.matrix[i][k] * N.matrix[k][j] for k in range(self.m)) for j in range(N.m)] for i in range(self.n)]\n",
    "        return Matrix(data=result)\n",
    "    \n",
    "\n",
    "    def element_mult(self, N):\n",
    "        if self.n != N.n or self.m != N.m:\n",
    "            raise ValueError('wrong dime')\n",
    "        return Matrix(data=[[self.matrix[i][j] * N.matrix[i][j] for j in range(self.m)] for i in range(self.n)])\n",
    "\n",
    "    def equals(self, N):\n",
    "            if self.n != N.n or self.m != N.m:\n",
    "                return False\n",
    "            return all(self.matrix[i][j] == N.matrix[i][j] for i in range(self.n) for j in range(self.m))\n",
    "\n",
    "\n",
    "    def __mul__(self,other):\n",
    "        if isinstance(other, (int, float)):\n",
    "            return self.scalarmul(other)\n",
    "        \n",
    "        elif isinstance(other,Matrix):\n",
    "            return self.mat_mult(other)\n",
    "        \n",
    "    def __rmul__(self,other):\n",
    "\n",
    "        if isinstance(other,(int,float)):\n",
    "            return self.scalarmul(other)\n",
    "matrix = Matrix(2,3)\n",
    "\n",
    "print(matrix.matrix)\n",
    "\n",
    "matrix2 = Matrix(data=[[1,2,3], [4,5,6]])\n",
    "\n",
    "print(matrix2.matrix)"
   ]
  },
  {
   "cell_type": "code",
   "execution_count": 16,
   "metadata": {},
   "outputs": [
    {
     "name": "stdout",
     "output_type": "stream",
     "text": [
      "(3, 3)\n",
      "[[1, 4, 7], [2, 5, 8], [3, 6, 9]]\n",
      "[[4, 5, 6]]\n",
      "[[4, 5], [7, 8]]\n"
     ]
    }
   ],
   "source": [
    "M = Matrix(data= [[1,2,3], [4,5,6], [7,8,9]])\n",
    "\n",
    "print(M.shape())\n",
    "\n",
    "print(M.transpose().tolist())\n",
    "\n",
    "print(M.row(1).tolist())\n",
    "\n",
    "print(M.block(1,3,0,2).tolist())\n"
   ]
  },
  {
   "cell_type": "code",
   "execution_count": 35,
   "metadata": {},
   "outputs": [
    {
     "name": "stdout",
     "output_type": "stream",
     "text": [
      "[[5.0, 5.0], [5.0, 5.0], [5.0, 5.0]]\n",
      "[[0.0, 0.0, 0.0], [0.0, 0.0, 0.0], [0.0, 0.0, 0.0]]\n",
      "[[1.0, 1.0, 1.0, 1.0], [1.0, 1.0, 1.0, 1.0]]\n",
      "[[1.0, 0.0, 0.0, 0.0], [0.0, 1.0, 0.0, 0.0], [0.0, 0.0, 1.0, 0.0], [0.0, 0.0, 0.0, 1.0]]\n"
     ]
    }
   ],
   "source": [
    "print(Matrix.constant(3, 2, 5).tolist())\n",
    "\n",
    "print(Matrix.zeros(3, 3).tolist())\n",
    "\n",
    "print(Matrix.ones(2,4).tolist())\n",
    "\n",
    "print(Matrix.eye(4).tolist())\n"
   ]
  },
  {
   "cell_type": "code",
   "execution_count": 40,
   "metadata": {},
   "outputs": [
    {
     "name": "stdout",
     "output_type": "stream",
     "text": [
      "[[3, 6], [9, 12]]\n",
      "[[6, 8], [10, 12]]\n",
      "[[19, 22], [43, 50]]\n"
     ]
    }
   ],
   "source": [
    "matrix = Matrix(data = [[1,2], [3,4]])\n",
    "matrix2 = Matrix(data = [[5,6], [7,8]])\n",
    "\n",
    "\n",
    "print(matrix.scalarmul(3).tolist())\n",
    "\n",
    "print(matrix.add(matrix2).tolist())\n",
    "\n",
    "print(matrix.mat_mult(matrix2).tolist())"
   ]
  }
 ],
 "metadata": {
  "kernelspec": {
   "display_name": "Python 3",
   "language": "python",
   "name": "python3"
  },
  "language_info": {
   "codemirror_mode": {
    "name": "ipython",
    "version": 3
   },
   "file_extension": ".py",
   "mimetype": "text/x-python",
   "name": "python",
   "nbconvert_exporter": "python",
   "pygments_lexer": "ipython3",
   "version": "3.11.9"
  }
 },
 "nbformat": 4,
 "nbformat_minor": 2
}
