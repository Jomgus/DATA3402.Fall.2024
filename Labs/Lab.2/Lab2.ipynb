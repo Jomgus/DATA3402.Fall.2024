{
 "cells": [
  {
   "cell_type": "markdown",
   "metadata": {},
   "source": [
    "## Lab 2- Tic Tac Toe\n",
    "\n",
    "In this lab your will build a n x n Tic Tac Toe game. As you do the exercises, make sure your solutions work for any size Tic Tac Toe game. "
   ]
  },
  {
   "cell_type": "markdown",
   "metadata": {},
   "source": [
    "*Exercise 1:* Write a function that creates an n by n matrix (of list of lists) which will represent the state of a Tie Tac Toe game. Let 0, 1, and 2 represent empty, \"X\", and \"O\", respectively.\n"
   ]
  },
  {
   "cell_type": "code",
   "execution_count": 1,
   "metadata": {},
   "outputs": [],
   "source": [
    "# Write you solution here\n",
    "\n",
    "empty = 0\n",
    "x = 1\n",
    "o = 2\n",
    "size = 6\n",
    "\n",
    "board=list()\n",
    "for i in range(size):\n",
    "    board.append([empty]*size)\n",
    "    \n"
   ]
  },
  {
   "cell_type": "code",
   "execution_count": 2,
   "metadata": {},
   "outputs": [
    {
     "data": {
      "text/plain": [
       "[[0, 0, 0, 0, 0, 0],\n",
       " [0, 0, 1, 0, 0, 0],\n",
       " [0, 0, 0, 0, 0, 0],\n",
       " [0, 0, 0, 0, 0, 0],\n",
       " [0, 0, 0, 0, 0, 0],\n",
       " [0, 0, 0, 0, 0, 0]]"
      ]
     },
     "execution_count": 2,
     "metadata": {},
     "output_type": "execute_result"
    }
   ],
   "source": [
    "# Test your solution here\n",
    "\n",
    "board[1][2] = 1\n",
    "\n",
    "board\n"
   ]
  },
  {
   "cell_type": "markdown",
   "metadata": {},
   "source": [
    "*Exercise 2:* Write a function that takes 2 integers `n` and `m` as input and draws a `n` by `m` game board. For example the following is a 3x3 board:\n",
    "```\n",
    "   --- --- --- \n",
    "  |   |   |   | \n",
    "   --- --- ---  \n",
    "  |   |   |   | \n",
    "   --- --- ---  \n",
    "  |   |   |   | \n",
    "   --- --- --- \n",
    "   ```"
   ]
  },
  {
   "cell_type": "code",
   "execution_count": 3,
   "metadata": {},
   "outputs": [],
   "source": [
    "# Write you solution here\n",
    "\n",
    "def makeBoard():\n",
    "\n",
    "    n = int(input('dim1\\n'))\n",
    "    m = int(input('dim2\\n'))\n",
    "    print(f'creating {n} by {m} game board')\n",
    "    for i in range(m):\n",
    "        print((' ---')*n) \n",
    "        print('|' + ('   ' + '|')*n)\n",
    "    print(' ---'*n)\n",
    "\n",
    "    "
   ]
  },
  {
   "cell_type": "code",
   "execution_count": 4,
   "metadata": {},
   "outputs": [
    {
     "name": "stdout",
     "output_type": "stream",
     "text": [
      "dim1\n",
      "5\n",
      "dim2\n",
      "5\n",
      "creating 5 by 5 game board\n",
      " --- --- --- --- ---\n",
      "|   |   |   |   |   |\n",
      " --- --- --- --- ---\n",
      "|   |   |   |   |   |\n",
      " --- --- --- --- ---\n",
      "|   |   |   |   |   |\n",
      " --- --- --- --- ---\n",
      "|   |   |   |   |   |\n",
      " --- --- --- --- ---\n",
      "|   |   |   |   |   |\n",
      " --- --- --- --- ---\n"
     ]
    }
   ],
   "source": [
    "# Test your solution here\n",
    "makeBoard()\n"
   ]
  },
  {
   "cell_type": "markdown",
   "metadata": {},
   "source": [
    "*Exercise 3:* Modify exercise 2, so that it takes a matrix of the form from exercise 1 and draws a tic-tac-tie board with \"X\"s and \"O\"s.  "
   ]
  },
  {
   "cell_type": "code",
   "execution_count": 5,
   "metadata": {},
   "outputs": [],
   "source": [
    "\n",
    "def drawBoard(board):\n",
    "\n",
    "    n = len(board)\n",
    "    m = len(board[0])\n",
    "    \n",
    "    \n",
    "    for i in range(n):\n",
    "        print((' ---')*m)\n",
    "        \n",
    "        line = '|'\n",
    "        \n",
    "        for j in range(m):\n",
    "            \n",
    "            if board[i][j] == 1:\n",
    "                line += ' X |'\n",
    "            elif board[i][j] == 2:\n",
    "                line += ' O |'\n",
    "            else:\n",
    "                line+= '   |'\n",
    "        print(line)\n",
    "        \n",
    "    print(' ---' * m)"
   ]
  },
  {
   "cell_type": "code",
   "execution_count": 6,
   "metadata": {},
   "outputs": [
    {
     "name": "stdout",
     "output_type": "stream",
     "text": [
      " --- --- --- --- ---\n",
      "|   |   |   | X | O |\n",
      " --- --- --- --- ---\n",
      "| X | O |   | X | O |\n",
      " --- --- --- --- ---\n",
      "|   |   |   | X | O |\n",
      " --- --- --- --- ---\n",
      "| X | O |   | X | O |\n",
      " --- --- --- --- ---\n"
     ]
    }
   ],
   "source": [
    "# Test your solution here\n",
    "\n",
    "gameboard = [[0,0,0,1,2],\n",
    "             [1,2,0,1,2],\n",
    "            [0,0,0,1,2],\n",
    "            [1,2,0,1,2]]\n",
    "\n",
    "drawBoard(gameboard)"
   ]
  },
  {
   "cell_type": "markdown",
   "metadata": {},
   "source": [
    "*Exercise 4:* Write a function that takes a `n` by `n` matrix representing a tic-tac-toe game, and returns -1, 0, 1, or 2 indicating the game is incomplete, the game is a draw, player 1 has won, or player 2 has one, respectively. Here are some example inputs you can use to test your code:"
   ]
  },
  {
   "cell_type": "code",
   "execution_count": 7,
   "metadata": {},
   "outputs": [],
   "source": [
    "# Write you solution here\n",
    "\n",
    "def state(board):\n",
    "\n",
    "    n = len(board)\n",
    "    #rows\n",
    "    for i in range(n):\n",
    "    \n",
    "        if board[i][0] != 0 and all(board[i][j] == board[i][0] for j in range(n)):\n",
    "            return board[i][0]\n",
    "        \n",
    "    #col\n",
    "    \n",
    "    for j in range(n):\n",
    "    \n",
    "        if board[0][j] != 0 and all(board[i][j] == board[0][j] for i in range(n)):\n",
    "            return board[0][j]\n",
    "        \n",
    "    \n",
    "    if board[0][0] != 0 and all(board[i][i] == board[0][0] for i in range(n)):\n",
    "        return board[0][0]\n",
    "    \n",
    "    if board[0][n-1] != 0 and all(board[i][n-1-i] == board[0][n-1] for i in range (n)):\n",
    "        return board[0][n-1]\n",
    "    # state\n",
    "    if any(0 in row for row in board):\n",
    "        \n",
    "        return -1\n",
    "    \n",
    "    return 0"
   ]
  },
  {
   "cell_type": "code",
   "execution_count": 8,
   "metadata": {},
   "outputs": [
    {
     "data": {
      "text/plain": [
       "0"
      ]
     },
     "execution_count": 8,
     "metadata": {},
     "output_type": "execute_result"
    }
   ],
   "source": [
    "# Test your solution here\n",
    "\n",
    "draw_game = [[1,2,1],\n",
    "             [2,1,2],\n",
    "             [2,1,2]]\n",
    "\n",
    "state(draw_game)"
   ]
  },
  {
   "cell_type": "code",
   "execution_count": 9,
   "metadata": {},
   "outputs": [
    {
     "name": "stdout",
     "output_type": "stream",
     "text": [
      "2\n",
      "1\n",
      "1\n",
      "-1\n",
      "-1\n"
     ]
    }
   ],
   "source": [
    "winner_is_2 = [[0, 2, 0],\n",
    "\t[0, 2, 0],\n",
    "\t[0, 2, 0]]\n",
    "\n",
    "winner_is_1 = [[1, 2, 0],\n",
    "\t[2, 1, 0],\n",
    "\t[2, 1, 1]]\n",
    "\n",
    "winner_is_also_1 = [[0, 1, 0],\n",
    "\t[2, 1, 0],\n",
    "\t[2, 1, 1]]\n",
    "\n",
    "no_winner = [[1, 2, 0],\n",
    "\t[2, 1, 0],\n",
    "\t[2, 1, 2]]\n",
    "\n",
    "also_no_winner = [[1, 2, 0],\n",
    "\t[2, 1, 0],\n",
    "\t[2, 1, 0]]\n",
    "\n",
    "\n",
    "\n",
    "print(state(winner_is_2))\n",
    "print(state(winner_is_1))\n",
    "print(state(winner_is_also_1))\n",
    "print(state(no_winner))\n",
    "print(state(also_no_winner))"
   ]
  },
  {
   "cell_type": "markdown",
   "metadata": {},
   "source": [
    "*Exercise 5:* Write a function that takes a game board, player number, and `(x,y)` coordinates and places \"X\" or \"O\" in the correct location of the game board. Make sure that you only allow filling previously empty locations. Return `True` or `False` to indicate successful placement of \"X\" or \"O\"."
   ]
  },
  {
   "cell_type": "code",
   "execution_count": 10,
   "metadata": {},
   "outputs": [],
   "source": [
    "# Write you solution here\n",
    "\n",
    "def move(board,number,x,y):\n",
    "\n",
    "    if board[x][y] == 0:\n",
    "        board[x][y] = number\n",
    "        drawBoard(board)\n",
    "        return True\n",
    "    return False\n",
    "\n",
    "\n",
    "\n"
   ]
  },
  {
   "cell_type": "code",
   "execution_count": 11,
   "metadata": {},
   "outputs": [
    {
     "name": "stdout",
     "output_type": "stream",
     "text": [
      " --- --- ---\n",
      "|   |   |   |\n",
      " --- --- ---\n",
      "|   | O |   |\n",
      " --- --- ---\n",
      "|   |   |   |\n",
      " --- --- ---\n",
      " --- --- ---\n",
      "|   |   | X |\n",
      " --- --- ---\n",
      "|   | O |   |\n",
      " --- --- ---\n",
      "|   |   |   |\n",
      " --- --- ---\n"
     ]
    },
    {
     "data": {
      "text/plain": [
       "True"
      ]
     },
     "execution_count": 11,
     "metadata": {},
     "output_type": "execute_result"
    }
   ],
   "source": [
    "# Test your solution here\n",
    "\n",
    "gameboard = [[0,0,0]\n",
    "            ,[0,0,0]\n",
    "            ,[0,0,0]]\n",
    "\n",
    "move(gameboard,2,1,1)\n",
    "\n",
    "move(gameboard,1,0,2)\n"
   ]
  },
  {
   "cell_type": "markdown",
   "metadata": {},
   "source": [
    "*Exercise 6:* Modify Exercise 4 to show column and row labels so that players can specify location using \"A2\" or \"C1\"."
   ]
  },
  {
   "cell_type": "code",
   "execution_count": 12,
   "metadata": {},
   "outputs": [],
   "source": [
    "# Write you solution here\n",
    "\n",
    "row_names = list(\"ABCDEFGHIJKLMNOPQRSTUVWXYZ\")\n",
    "row_map = dict(zip(row_names, range(size)))\n",
    "\n",
    "column_names = list(map(str, range(1, size + 1)))\n",
    "column_map = dict(zip(column_names, range(size)))\n",
    "\n",
    "def drawBoard(board):\n",
    "    n = len(board)\n",
    "    m = len(board[0])\n",
    "    \n",
    "    \n",
    "    print('   ', end='')  \n",
    "    for j in range(m):\n",
    "        print(f'  {column_names[j]} ', end='')\n",
    "    print()\n",
    "    \n",
    "    for i in range(n):\n",
    "        print('  ', end='')  \n",
    "        print(' ---' * m)\n",
    "        \n",
    "        line = f'{row_names[i]} |' \n",
    "        \n",
    "        for j in range(m):\n",
    "            if board[i][j] == 1:\n",
    "                line += ' X |'\n",
    "            elif board[i][j] == 2:\n",
    "                line += ' O |'\n",
    "            else:\n",
    "                line += '   |'\n",
    "        print(line)\n",
    "        \n",
    "    print('  ' + ' ---' * m)  \n",
    "\n",
    "\n",
    "\n"
   ]
  },
  {
   "cell_type": "code",
   "execution_count": 13,
   "metadata": {},
   "outputs": [
    {
     "name": "stdout",
     "output_type": "stream",
     "text": [
      "     1   2   3   4   5 \n",
      "   --- --- --- --- ---\n",
      "A |   |   |   | X | O |\n",
      "   --- --- --- --- ---\n",
      "B | X | O |   | X | O |\n",
      "   --- --- --- --- ---\n",
      "C |   |   |   | X | O |\n",
      "   --- --- --- --- ---\n",
      "D | X | O |   | X | O |\n",
      "   --- --- --- --- ---\n"
     ]
    }
   ],
   "source": [
    "# Test your solution here\n",
    "\n",
    "board = [[0, 0, 0, 1, 2],\n",
    "         [1, 2, 0, 1, 2],\n",
    "         [0, 0, 0, 1, 2],\n",
    "         [1, 2, 0, 1, 2]]\n",
    "\n",
    "drawBoard(board)"
   ]
  },
  {
   "cell_type": "markdown",
   "metadata": {},
   "source": [
    "*Exercise 7:* Write a function that takes a board, player number, and location specified as in exercise 6 and then calls exercise 5 to correctly modify the board.  "
   ]
  },
  {
   "cell_type": "code",
   "execution_count": 14,
   "metadata": {},
   "outputs": [],
   "source": [
    "# Write you solution here\n",
    "\n",
    "def placeMove(board, player, location):\n",
    "    row_names = list(\"ABCDEFGHIJKLMNOPQRSTUVWXYZ\")[:len(board)]\n",
    "    column_names = list(map(str, range(1, len(board[0]) + 1)))\n",
    "    \n",
    "    row = row_names.index(location[0])\n",
    "    column = column_names.index(location[1])\n",
    "    \n",
    "    return move(board, player, row, column)\n"
   ]
  },
  {
   "cell_type": "code",
   "execution_count": 15,
   "metadata": {},
   "outputs": [
    {
     "name": "stdout",
     "output_type": "stream",
     "text": [
      "     1   2   3 \n",
      "   --- --- ---\n",
      "A |   | X |   |\n",
      "   --- --- ---\n",
      "B |   |   |   |\n",
      "   --- --- ---\n",
      "C |   |   |   |\n",
      "   --- --- ---\n"
     ]
    },
    {
     "data": {
      "text/plain": [
       "True"
      ]
     },
     "execution_count": 15,
     "metadata": {},
     "output_type": "execute_result"
    }
   ],
   "source": [
    "# Test your solution here\n",
    "\n",
    "gameboard = [[0, 0, 0], [0, 0, 0], [0, 0, 0]]\n",
    "placeMove(gameboard, 1, \"A2\")\n"
   ]
  },
  {
   "cell_type": "markdown",
   "metadata": {},
   "source": [
    "*Exercise 8:* Write a function is called with a board and player number, takes input from the player using python's `input`, and modifies the board using your function from exercise 7. Note that you should keep asking for input until you have gotten a valid input that results in a valid move."
   ]
  },
  {
   "cell_type": "code",
   "execution_count": 16,
   "metadata": {},
   "outputs": [],
   "source": [
    "# Write you solution here\n",
    "\n",
    "def getValidMove(board, player):\n",
    "    while True:\n",
    "        location = input(f\"Player {player}, enter your move: \")\n",
    "        try:\n",
    "            if placeMove(board, player, location.upper()):\n",
    "                break\n",
    "            else:\n",
    "                print(\"That spot taken. Try again.\")\n",
    "        except (IndexError, ValueError):\n",
    "            print(\"INVALID MOVE! enter valid location\")\n",
    "            \n"
   ]
  },
  {
   "cell_type": "code",
   "execution_count": 17,
   "metadata": {},
   "outputs": [
    {
     "name": "stdout",
     "output_type": "stream",
     "text": [
      "Player 2, enter your move: a3\n",
      "     1   2   3 \n",
      "   --- --- ---\n",
      "A |   | X | O |\n",
      "   --- --- ---\n",
      "B |   |   |   |\n",
      "   --- --- ---\n",
      "C |   |   |   |\n",
      "   --- --- ---\n"
     ]
    }
   ],
   "source": [
    "# Test your solution here\n",
    "getValidMove(gameboard, 2)\n"
   ]
  },
  {
   "cell_type": "markdown",
   "metadata": {},
   "source": [
    "*Exercise 9:* Use all of the previous exercises to implement a full tic-tac-toe game, where an appropriate board is drawn, 2 players are repeatedly asked for a location coordinates of where they wish to place a mark, and the game status is checked until a player wins or a draw occurs."
   ]
  },
  {
   "cell_type": "code",
   "execution_count": 18,
   "metadata": {},
   "outputs": [],
   "source": [
    "# Write you solution here\n",
    "\n",
    "def playTicTacToe(n):\n",
    "    board = [[0] * n for _ in range(n)]\n",
    "    player = 1\n",
    "    \n",
    "    while True:\n",
    "        drawBoard(board)  \n",
    "        getValidMove(board, player)  \n",
    "        \n",
    "    \n",
    "        status = state(board)\n",
    "        if status == 1:\n",
    "            print(\"Player 1 wins\")\n",
    "            break\n",
    "        elif status == 2:\n",
    "            print(\"Player 2 wins\")\n",
    "            break\n",
    "        elif status == 0:\n",
    "            print(\"draw\")\n",
    "            break\n",
    "        \n",
    "        player = 2 if player == 1 else 1\n",
    "\n",
    "\n"
   ]
  },
  {
   "cell_type": "code",
   "execution_count": 19,
   "metadata": {},
   "outputs": [
    {
     "name": "stdout",
     "output_type": "stream",
     "text": [
      "     1   2   3 \n",
      "   --- --- ---\n",
      "A |   |   |   |\n",
      "   --- --- ---\n",
      "B |   |   |   |\n",
      "   --- --- ---\n",
      "C |   |   |   |\n",
      "   --- --- ---\n",
      "Player 1, enter your move: a3\n",
      "     1   2   3 \n",
      "   --- --- ---\n",
      "A |   |   | X |\n",
      "   --- --- ---\n",
      "B |   |   |   |\n",
      "   --- --- ---\n",
      "C |   |   |   |\n",
      "   --- --- ---\n",
      "     1   2   3 \n",
      "   --- --- ---\n",
      "A |   |   | X |\n",
      "   --- --- ---\n",
      "B |   |   |   |\n",
      "   --- --- ---\n",
      "C |   |   |   |\n",
      "   --- --- ---\n",
      "Player 2, enter your move: a1\n",
      "     1   2   3 \n",
      "   --- --- ---\n",
      "A | O |   | X |\n",
      "   --- --- ---\n",
      "B |   |   |   |\n",
      "   --- --- ---\n",
      "C |   |   |   |\n",
      "   --- --- ---\n",
      "     1   2   3 \n",
      "   --- --- ---\n",
      "A | O |   | X |\n",
      "   --- --- ---\n",
      "B |   |   |   |\n",
      "   --- --- ---\n",
      "C |   |   |   |\n",
      "   --- --- ---\n",
      "Player 1, enter your move: a4\n",
      "Invalid move. Make sure you are entering a valid location (e.g., A1, B3).\n",
      "Player 1, enter your move: b2\n",
      "     1   2   3 \n",
      "   --- --- ---\n",
      "A | O |   | X |\n",
      "   --- --- ---\n",
      "B |   | X |   |\n",
      "   --- --- ---\n",
      "C |   |   |   |\n",
      "   --- --- ---\n",
      "     1   2   3 \n",
      "   --- --- ---\n",
      "A | O |   | X |\n",
      "   --- --- ---\n",
      "B |   | X |   |\n",
      "   --- --- ---\n",
      "C |   |   |   |\n",
      "   --- --- ---\n",
      "Player 2, enter your move: a1\n",
      "That spot taken. Try again.\n",
      "Player 2, enter your move: a2\n",
      "     1   2   3 \n",
      "   --- --- ---\n",
      "A | O | O | X |\n",
      "   --- --- ---\n",
      "B |   | X |   |\n",
      "   --- --- ---\n",
      "C |   |   |   |\n",
      "   --- --- ---\n",
      "     1   2   3 \n",
      "   --- --- ---\n",
      "A | O | O | X |\n",
      "   --- --- ---\n",
      "B |   | X |   |\n",
      "   --- --- ---\n",
      "C |   |   |   |\n",
      "   --- --- ---\n",
      "Player 1, enter your move: c1\n",
      "     1   2   3 \n",
      "   --- --- ---\n",
      "A | O | O | X |\n",
      "   --- --- ---\n",
      "B |   | X |   |\n",
      "   --- --- ---\n",
      "C | X |   |   |\n",
      "   --- --- ---\n",
      "Player 1 (X) wins!\n"
     ]
    }
   ],
   "source": [
    "# Test your solution here\n",
    "\n",
    "playTicTacToe(3)"
   ]
  },
  {
   "cell_type": "markdown",
   "metadata": {},
   "source": [
    "*Exercise 10:* Test that your game works for 5x5 Tic Tac Toe.  "
   ]
  },
  {
   "cell_type": "code",
   "execution_count": 23,
   "metadata": {},
   "outputs": [
    {
     "name": "stdout",
     "output_type": "stream",
     "text": [
      "     1   2   3   4   5 \n",
      "   --- --- --- --- ---\n",
      "A |   |   |   |   |   |\n",
      "   --- --- --- --- ---\n",
      "B |   |   |   |   |   |\n",
      "   --- --- --- --- ---\n",
      "C |   |   |   |   |   |\n",
      "   --- --- --- --- ---\n",
      "D |   |   |   |   |   |\n",
      "   --- --- --- --- ---\n",
      "E |   |   |   |   |   |\n",
      "   --- --- --- --- ---\n",
      "Player 1, enter your move: a1\n",
      "     1   2   3   4   5 \n",
      "   --- --- --- --- ---\n",
      "A | X |   |   |   |   |\n",
      "   --- --- --- --- ---\n",
      "B |   |   |   |   |   |\n",
      "   --- --- --- --- ---\n",
      "C |   |   |   |   |   |\n",
      "   --- --- --- --- ---\n",
      "D |   |   |   |   |   |\n",
      "   --- --- --- --- ---\n",
      "E |   |   |   |   |   |\n",
      "   --- --- --- --- ---\n",
      "     1   2   3   4   5 \n",
      "   --- --- --- --- ---\n",
      "A | X |   |   |   |   |\n",
      "   --- --- --- --- ---\n",
      "B |   |   |   |   |   |\n",
      "   --- --- --- --- ---\n",
      "C |   |   |   |   |   |\n",
      "   --- --- --- --- ---\n",
      "D |   |   |   |   |   |\n",
      "   --- --- --- --- ---\n",
      "E |   |   |   |   |   |\n",
      "   --- --- --- --- ---\n",
      "Player 2, enter your move: b1\n",
      "     1   2   3   4   5 \n",
      "   --- --- --- --- ---\n",
      "A | X |   |   |   |   |\n",
      "   --- --- --- --- ---\n",
      "B | O |   |   |   |   |\n",
      "   --- --- --- --- ---\n",
      "C |   |   |   |   |   |\n",
      "   --- --- --- --- ---\n",
      "D |   |   |   |   |   |\n",
      "   --- --- --- --- ---\n",
      "E |   |   |   |   |   |\n",
      "   --- --- --- --- ---\n",
      "     1   2   3   4   5 \n",
      "   --- --- --- --- ---\n",
      "A | X |   |   |   |   |\n",
      "   --- --- --- --- ---\n",
      "B | O |   |   |   |   |\n",
      "   --- --- --- --- ---\n",
      "C |   |   |   |   |   |\n",
      "   --- --- --- --- ---\n",
      "D |   |   |   |   |   |\n",
      "   --- --- --- --- ---\n",
      "E |   |   |   |   |   |\n",
      "   --- --- --- --- ---\n",
      "Player 1, enter your move: a2\n",
      "     1   2   3   4   5 \n",
      "   --- --- --- --- ---\n",
      "A | X | X |   |   |   |\n",
      "   --- --- --- --- ---\n",
      "B | O |   |   |   |   |\n",
      "   --- --- --- --- ---\n",
      "C |   |   |   |   |   |\n",
      "   --- --- --- --- ---\n",
      "D |   |   |   |   |   |\n",
      "   --- --- --- --- ---\n",
      "E |   |   |   |   |   |\n",
      "   --- --- --- --- ---\n",
      "     1   2   3   4   5 \n",
      "   --- --- --- --- ---\n",
      "A | X | X |   |   |   |\n",
      "   --- --- --- --- ---\n",
      "B | O |   |   |   |   |\n",
      "   --- --- --- --- ---\n",
      "C |   |   |   |   |   |\n",
      "   --- --- --- --- ---\n",
      "D |   |   |   |   |   |\n",
      "   --- --- --- --- ---\n",
      "E |   |   |   |   |   |\n",
      "   --- --- --- --- ---\n",
      "Player 2, enter your move: b2\n",
      "     1   2   3   4   5 \n",
      "   --- --- --- --- ---\n",
      "A | X | X |   |   |   |\n",
      "   --- --- --- --- ---\n",
      "B | O | O |   |   |   |\n",
      "   --- --- --- --- ---\n",
      "C |   |   |   |   |   |\n",
      "   --- --- --- --- ---\n",
      "D |   |   |   |   |   |\n",
      "   --- --- --- --- ---\n",
      "E |   |   |   |   |   |\n",
      "   --- --- --- --- ---\n",
      "     1   2   3   4   5 \n",
      "   --- --- --- --- ---\n",
      "A | X | X |   |   |   |\n",
      "   --- --- --- --- ---\n",
      "B | O | O |   |   |   |\n",
      "   --- --- --- --- ---\n",
      "C |   |   |   |   |   |\n",
      "   --- --- --- --- ---\n",
      "D |   |   |   |   |   |\n",
      "   --- --- --- --- ---\n",
      "E |   |   |   |   |   |\n",
      "   --- --- --- --- ---\n",
      "Player 1, enter your move: a3\n",
      "     1   2   3   4   5 \n",
      "   --- --- --- --- ---\n",
      "A | X | X | X |   |   |\n",
      "   --- --- --- --- ---\n",
      "B | O | O |   |   |   |\n",
      "   --- --- --- --- ---\n",
      "C |   |   |   |   |   |\n",
      "   --- --- --- --- ---\n",
      "D |   |   |   |   |   |\n",
      "   --- --- --- --- ---\n",
      "E |   |   |   |   |   |\n",
      "   --- --- --- --- ---\n",
      "     1   2   3   4   5 \n",
      "   --- --- --- --- ---\n",
      "A | X | X | X |   |   |\n",
      "   --- --- --- --- ---\n",
      "B | O | O |   |   |   |\n",
      "   --- --- --- --- ---\n",
      "C |   |   |   |   |   |\n",
      "   --- --- --- --- ---\n",
      "D |   |   |   |   |   |\n",
      "   --- --- --- --- ---\n",
      "E |   |   |   |   |   |\n",
      "   --- --- --- --- ---\n",
      "Player 2, enter your move: b3\n",
      "     1   2   3   4   5 \n",
      "   --- --- --- --- ---\n",
      "A | X | X | X |   |   |\n",
      "   --- --- --- --- ---\n",
      "B | O | O | O |   |   |\n",
      "   --- --- --- --- ---\n",
      "C |   |   |   |   |   |\n",
      "   --- --- --- --- ---\n",
      "D |   |   |   |   |   |\n",
      "   --- --- --- --- ---\n",
      "E |   |   |   |   |   |\n",
      "   --- --- --- --- ---\n",
      "     1   2   3   4   5 \n",
      "   --- --- --- --- ---\n",
      "A | X | X | X |   |   |\n",
      "   --- --- --- --- ---\n",
      "B | O | O | O |   |   |\n",
      "   --- --- --- --- ---\n",
      "C |   |   |   |   |   |\n",
      "   --- --- --- --- ---\n",
      "D |   |   |   |   |   |\n",
      "   --- --- --- --- ---\n",
      "E |   |   |   |   |   |\n",
      "   --- --- --- --- ---\n",
      "Player 1, enter your move: a4\n",
      "     1   2   3   4   5 \n",
      "   --- --- --- --- ---\n",
      "A | X | X | X | X |   |\n",
      "   --- --- --- --- ---\n",
      "B | O | O | O |   |   |\n",
      "   --- --- --- --- ---\n",
      "C |   |   |   |   |   |\n",
      "   --- --- --- --- ---\n",
      "D |   |   |   |   |   |\n",
      "   --- --- --- --- ---\n",
      "E |   |   |   |   |   |\n",
      "   --- --- --- --- ---\n",
      "     1   2   3   4   5 \n",
      "   --- --- --- --- ---\n",
      "A | X | X | X | X |   |\n",
      "   --- --- --- --- ---\n",
      "B | O | O | O |   |   |\n",
      "   --- --- --- --- ---\n",
      "C |   |   |   |   |   |\n",
      "   --- --- --- --- ---\n",
      "D |   |   |   |   |   |\n",
      "   --- --- --- --- ---\n",
      "E |   |   |   |   |   |\n",
      "   --- --- --- --- ---\n",
      "Player 2, enter your move: b4\n",
      "     1   2   3   4   5 \n",
      "   --- --- --- --- ---\n",
      "A | X | X | X | X |   |\n",
      "   --- --- --- --- ---\n",
      "B | O | O | O | O |   |\n",
      "   --- --- --- --- ---\n",
      "C |   |   |   |   |   |\n",
      "   --- --- --- --- ---\n",
      "D |   |   |   |   |   |\n",
      "   --- --- --- --- ---\n",
      "E |   |   |   |   |   |\n",
      "   --- --- --- --- ---\n",
      "     1   2   3   4   5 \n",
      "   --- --- --- --- ---\n",
      "A | X | X | X | X |   |\n",
      "   --- --- --- --- ---\n",
      "B | O | O | O | O |   |\n",
      "   --- --- --- --- ---\n",
      "C |   |   |   |   |   |\n",
      "   --- --- --- --- ---\n",
      "D |   |   |   |   |   |\n",
      "   --- --- --- --- ---\n",
      "E |   |   |   |   |   |\n",
      "   --- --- --- --- ---\n",
      "Player 1, enter your move: a5\n",
      "     1   2   3   4   5 \n",
      "   --- --- --- --- ---\n",
      "A | X | X | X | X | X |\n",
      "   --- --- --- --- ---\n",
      "B | O | O | O | O |   |\n",
      "   --- --- --- --- ---\n",
      "C |   |   |   |   |   |\n",
      "   --- --- --- --- ---\n",
      "D |   |   |   |   |   |\n",
      "   --- --- --- --- ---\n",
      "E |   |   |   |   |   |\n",
      "   --- --- --- --- ---\n",
      "Player 1 (X) wins!\n"
     ]
    }
   ],
   "source": [
    "# Test your solution here\n",
    "\n",
    "playTicTacToe(5)"
   ]
  },
  {
   "cell_type": "markdown",
   "metadata": {},
   "source": [
    "*Exercise 11:* (Advanced / Challenge) Develop a version of the game where one player is the computer. Note that you don't need to do an extensive seach for the best move. You can have the computer simply protect against loosing and otherwise try to win with straight or diagonal patterns."
   ]
  },
  {
   "cell_type": "code",
   "execution_count": null,
   "metadata": {},
   "outputs": [],
   "source": [
    "import random"
   ]
  },
  {
   "cell_type": "code",
   "execution_count": 22,
   "metadata": {},
   "outputs": [],
   "source": [
    "# Test your solution here"
   ]
  }
 ],
 "metadata": {
  "kernelspec": {
   "display_name": "Python 3 (ipykernel)",
   "language": "python",
   "name": "python3"
  },
  "language_info": {
   "codemirror_mode": {
    "name": "ipython",
    "version": 3
   },
   "file_extension": ".py",
   "mimetype": "text/x-python",
   "name": "python",
   "nbconvert_exporter": "python",
   "pygments_lexer": "ipython3",
   "version": "3.12.3"
  }
 },
 "nbformat": 4,
 "nbformat_minor": 2
}
