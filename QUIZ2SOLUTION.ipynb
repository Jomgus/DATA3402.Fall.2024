{
 "cells": [
  {
   "cell_type": "markdown",
   "metadata": {},
   "source": [
    "## QUIZ 2"
   ]
  },
  {
   "cell_type": "code",
   "execution_count": 1,
   "metadata": {},
   "outputs": [],
   "source": [
    "def makeDeck():\n",
    "\n",
    "    suits = ['clubs', 'diamond', 'hearts', 'spades']\n",
    "    values = [2,3,4,5,6,7,8,9,10, 'Jack', 'Queen', 'King', 'ace']\n",
    "\n",
    "    deck = [(suit, value) for suit in suits for value in values]\n",
    "\n",
    "    return deck\n"
   ]
  },
  {
   "cell_type": "code",
   "execution_count": 2,
   "metadata": {},
   "outputs": [
    {
     "name": "stdout",
     "output_type": "stream",
     "text": [
      "('clubs', 2)\n",
      "('clubs', 3)\n",
      "('clubs', 4)\n",
      "('clubs', 5)\n",
      "('clubs', 6)\n",
      "('clubs', 7)\n",
      "('clubs', 8)\n",
      "('clubs', 9)\n",
      "('clubs', 10)\n",
      "('clubs', 'Jack')\n",
      "('clubs', 'Queen')\n",
      "('clubs', 'King')\n",
      "('clubs', 'ace')\n",
      "('diamond', 2)\n",
      "('diamond', 3)\n",
      "('diamond', 4)\n",
      "('diamond', 5)\n",
      "('diamond', 6)\n",
      "('diamond', 7)\n",
      "('diamond', 8)\n",
      "('diamond', 9)\n",
      "('diamond', 10)\n",
      "('diamond', 'Jack')\n",
      "('diamond', 'Queen')\n",
      "('diamond', 'King')\n",
      "('diamond', 'ace')\n",
      "('hearts', 2)\n",
      "('hearts', 3)\n",
      "('hearts', 4)\n",
      "('hearts', 5)\n",
      "('hearts', 6)\n",
      "('hearts', 7)\n",
      "('hearts', 8)\n",
      "('hearts', 9)\n",
      "('hearts', 10)\n",
      "('hearts', 'Jack')\n",
      "('hearts', 'Queen')\n",
      "('hearts', 'King')\n",
      "('hearts', 'ace')\n",
      "('spades', 2)\n",
      "('spades', 3)\n",
      "('spades', 4)\n",
      "('spades', 5)\n",
      "('spades', 6)\n",
      "('spades', 7)\n",
      "('spades', 8)\n",
      "('spades', 9)\n",
      "('spades', 10)\n",
      "('spades', 'Jack')\n",
      "('spades', 'Queen')\n",
      "('spades', 'King')\n",
      "('spades', 'ace')\n"
     ]
    }
   ],
   "source": [
    "deck1 = makeDeck()\n",
    "for card in deck1:\n",
    "    print(card)"
   ]
  }
 ],
 "metadata": {
  "kernelspec": {
   "display_name": "Python 3",
   "language": "python",
   "name": "python3"
  },
  "language_info": {
   "codemirror_mode": {
    "name": "ipython",
    "version": 3
   },
   "file_extension": ".py",
   "mimetype": "text/x-python",
   "name": "python",
   "nbconvert_exporter": "python",
   "pygments_lexer": "ipython3",
   "version": "3.12.2"
  }
 },
 "nbformat": 4,
 "nbformat_minor": 2
}
